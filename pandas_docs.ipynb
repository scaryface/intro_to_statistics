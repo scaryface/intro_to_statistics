{
 "cells": [
  {
   "cell_type": "markdown",
   "metadata": {},
   "source": [
    "# Pandas documentation"
   ]
  },
  {
   "cell_type": "code",
   "execution_count": 4,
   "metadata": {},
   "outputs": [],
   "source": [
    "import pandas as pd\n",
    "import numpy as np\n",
    "import os"
   ]
  },
  {
   "cell_type": "code",
   "execution_count": 5,
   "metadata": {},
   "outputs": [
    {
     "output_type": "execute_result",
     "data": {
      "text/plain": "         title         author   pub\n0  Animal Farm  George Orwell  1962\n1  Animal Farm  George Orwell  1964\n2  Animal Farm  George Orwell  1970",
      "text/html": "<div>\n<style scoped>\n    .dataframe tbody tr th:only-of-type {\n        vertical-align: middle;\n    }\n\n    .dataframe tbody tr th {\n        vertical-align: top;\n    }\n\n    .dataframe thead th {\n        text-align: right;\n    }\n</style>\n<table border=\"1\" class=\"dataframe\">\n  <thead>\n    <tr style=\"text-align: right;\">\n      <th></th>\n      <th>title</th>\n      <th>author</th>\n      <th>pub</th>\n    </tr>\n  </thead>\n  <tbody>\n    <tr>\n      <td>0</td>\n      <td>Animal Farm</td>\n      <td>George Orwell</td>\n      <td>1962</td>\n    </tr>\n    <tr>\n      <td>1</td>\n      <td>Animal Farm</td>\n      <td>George Orwell</td>\n      <td>1964</td>\n    </tr>\n    <tr>\n      <td>2</td>\n      <td>Animal Farm</td>\n      <td>George Orwell</td>\n      <td>1970</td>\n    </tr>\n  </tbody>\n</table>\n</div>"
     },
     "metadata": {},
     "execution_count": 5
    }
   ],
   "source": [
    "# Can read from common data structures of Python\n",
    "# Adjusts the size based upon array size\n",
    "book_data = dict({\"title\":\"Animal Farm\",\"author\":\"George Orwell\", \"pub\":[1962,1964,1970]})\n",
    "book_df = pd.DataFrame(book_data)\n",
    "book_df"
   ]
  },
  {
   "cell_type": "code",
   "execution_count": null,
   "metadata": {},
   "outputs": [],
   "source": [
    "# note that if arrays used they should be of same length\n",
    "user_data = dict({\"name\":[\"user 1\", \"user 2\"], \"dob\":[1962,1964,1970]})\n",
    "# throws error\n",
    "user_df = pd.DataFrame(user_data)"
   ]
  },
  {
   "cell_type": "code",
   "execution_count": 6,
   "metadata": {},
   "outputs": [
    {
     "output_type": "execute_result",
     "data": {
      "text/plain": "                   A         B         C         D\n2020-03-18 -2.846136 -0.897701  1.442592 -0.980046\n2020-03-19 -1.638938 -0.508938 -0.208703 -0.283996\n2020-03-20  1.781347  0.844328  1.062893 -0.114830\n2020-03-21  1.854872  0.390251  0.076338 -0.223533\n2020-03-22  0.561635  0.009804 -0.330108  0.024293",
      "text/html": "<div>\n<style scoped>\n    .dataframe tbody tr th:only-of-type {\n        vertical-align: middle;\n    }\n\n    .dataframe tbody tr th {\n        vertical-align: top;\n    }\n\n    .dataframe thead th {\n        text-align: right;\n    }\n</style>\n<table border=\"1\" class=\"dataframe\">\n  <thead>\n    <tr style=\"text-align: right;\">\n      <th></th>\n      <th>A</th>\n      <th>B</th>\n      <th>C</th>\n      <th>D</th>\n    </tr>\n  </thead>\n  <tbody>\n    <tr>\n      <td>2020-03-18</td>\n      <td>-2.846136</td>\n      <td>-0.897701</td>\n      <td>1.442592</td>\n      <td>-0.980046</td>\n    </tr>\n    <tr>\n      <td>2020-03-19</td>\n      <td>-1.638938</td>\n      <td>-0.508938</td>\n      <td>-0.208703</td>\n      <td>-0.283996</td>\n    </tr>\n    <tr>\n      <td>2020-03-20</td>\n      <td>1.781347</td>\n      <td>0.844328</td>\n      <td>1.062893</td>\n      <td>-0.114830</td>\n    </tr>\n    <tr>\n      <td>2020-03-21</td>\n      <td>1.854872</td>\n      <td>0.390251</td>\n      <td>0.076338</td>\n      <td>-0.223533</td>\n    </tr>\n    <tr>\n      <td>2020-03-22</td>\n      <td>0.561635</td>\n      <td>0.009804</td>\n      <td>-0.330108</td>\n      <td>0.024293</td>\n    </tr>\n  </tbody>\n</table>\n</div>"
     },
     "metadata": {},
     "execution_count": 6
    }
   ],
   "source": [
    "dates = pd.date_range('03/18/2020', periods=8)\n",
    "time_series_df = pd.DataFrame(np.random.randn(8,4), index = dates, columns = ['A','B', 'C', 'D'])\n",
    "time_series_df.head()"
   ]
  },
  {
   "cell_type": "code",
   "execution_count": 7,
   "metadata": {
    "tags": []
   },
   "outputs": [
    {
     "output_type": "stream",
     "name": "stdout",
     "text": "-1.6389377471695767\n                   B\n2020-03-18 -0.897701\n2020-03-20  0.844328\n2020-03-22  0.009804\n"
    },
    {
     "output_type": "execute_result",
     "data": {
      "text/plain": "                   A         B         C         D\n2020-03-18 -2.846136 -0.897701  1.442592 -0.980046\n2020-03-19 -1.638938 -0.508938 -0.208703 -0.283996\n2020-03-20  1.781347  0.844328  1.062893 -0.114830\n2020-03-21  1.854872  0.390251  0.076338 -0.223533\n2020-03-22  0.561635  0.009804 -0.330108  0.024293",
      "text/html": "<div>\n<style scoped>\n    .dataframe tbody tr th:only-of-type {\n        vertical-align: middle;\n    }\n\n    .dataframe tbody tr th {\n        vertical-align: top;\n    }\n\n    .dataframe thead th {\n        text-align: right;\n    }\n</style>\n<table border=\"1\" class=\"dataframe\">\n  <thead>\n    <tr style=\"text-align: right;\">\n      <th></th>\n      <th>A</th>\n      <th>B</th>\n      <th>C</th>\n      <th>D</th>\n    </tr>\n  </thead>\n  <tbody>\n    <tr>\n      <td>2020-03-18</td>\n      <td>-2.846136</td>\n      <td>-0.897701</td>\n      <td>1.442592</td>\n      <td>-0.980046</td>\n    </tr>\n    <tr>\n      <td>2020-03-19</td>\n      <td>-1.638938</td>\n      <td>-0.508938</td>\n      <td>-0.208703</td>\n      <td>-0.283996</td>\n    </tr>\n    <tr>\n      <td>2020-03-20</td>\n      <td>1.781347</td>\n      <td>0.844328</td>\n      <td>1.062893</td>\n      <td>-0.114830</td>\n    </tr>\n    <tr>\n      <td>2020-03-21</td>\n      <td>1.854872</td>\n      <td>0.390251</td>\n      <td>0.076338</td>\n      <td>-0.223533</td>\n    </tr>\n    <tr>\n      <td>2020-03-22</td>\n      <td>0.561635</td>\n      <td>0.009804</td>\n      <td>-0.330108</td>\n      <td>0.024293</td>\n    </tr>\n  </tbody>\n</table>\n</div>"
     },
     "metadata": {},
     "execution_count": 7
    }
   ],
   "source": [
    "print(time_series_df.loc[dates.array[1],'A'])\n",
    "print(time_series_df[['B']][:5:2])\n",
    "time_series_df.loc['20200318':'20200322']"
   ]
  },
  {
   "cell_type": "code",
   "execution_count": 8,
   "metadata": {
    "tags": []
   },
   "outputs": [
    {
     "output_type": "stream",
     "name": "stdout",
     "text": "A         B         C         D\n2020-03-18 -2.846136 -0.897701  1.442592 -0.980046\n2020-03-19 -1.638938 -0.508938 -0.208703 -0.283996\n                   A         B         C         D\n2020-03-18 -0.897701 -2.846136  1.442592 -0.980046\n2020-03-19 -0.508938 -1.638938 -0.208703 -0.283996\n                   A         B         C         D\n2020-03-18 -0.897701 -2.846136  1.442592 -0.980046\n2020-03-19 -0.508938 -1.638938 -0.208703 -0.283996\n                   A         B         C         D\n2020-03-18 -2.846136 -0.897701  1.442592 -0.980046\n2020-03-19 -1.638938 -0.508938 -0.208703 -0.283996\n"
    }
   ],
   "source": [
    "print(time_series_df.head(2))\n",
    "# to swap in place\n",
    "time_series_df[['A','B']] = time_series_df[['B','A']]\n",
    "print(time_series_df.head(2))\n",
    "# does not swap the order\n",
    "time_series_df.loc[:,['B','A']] = time_series_df[['A','B']]\n",
    "print(time_series_df.head(2))\n",
    "# swapping by raw values\n",
    "time_series_df[['A','B']] = time_series_df[['B','A']].to_numpy()\n",
    "print(time_series_df.head(2))"
   ]
  },
  {
   "cell_type": "code",
   "execution_count": 9,
   "metadata": {},
   "outputs": [
    {
     "output_type": "execute_result",
     "data": {
      "text/plain": "            A         B         C         D  E\n2020-03-18  0 -0.897701  1.442592 -0.980046  4\n2020-03-19  1 -0.508938 -0.208703 -0.283996  3\n2020-03-20  2  0.844328  1.062893 -0.114830  6\n2020-03-21  3  0.390251  0.076338 -0.223533  7\n2020-03-22  4  0.009804 -0.330108  0.024293  6",
      "text/html": "<div>\n<style scoped>\n    .dataframe tbody tr th:only-of-type {\n        vertical-align: middle;\n    }\n\n    .dataframe tbody tr th {\n        vertical-align: top;\n    }\n\n    .dataframe thead th {\n        text-align: right;\n    }\n</style>\n<table border=\"1\" class=\"dataframe\">\n  <thead>\n    <tr style=\"text-align: right;\">\n      <th></th>\n      <th>A</th>\n      <th>B</th>\n      <th>C</th>\n      <th>D</th>\n      <th>E</th>\n    </tr>\n  </thead>\n  <tbody>\n    <tr>\n      <td>2020-03-18</td>\n      <td>0</td>\n      <td>-0.897701</td>\n      <td>1.442592</td>\n      <td>-0.980046</td>\n      <td>4</td>\n    </tr>\n    <tr>\n      <td>2020-03-19</td>\n      <td>1</td>\n      <td>-0.508938</td>\n      <td>-0.208703</td>\n      <td>-0.283996</td>\n      <td>3</td>\n    </tr>\n    <tr>\n      <td>2020-03-20</td>\n      <td>2</td>\n      <td>0.844328</td>\n      <td>1.062893</td>\n      <td>-0.114830</td>\n      <td>6</td>\n    </tr>\n    <tr>\n      <td>2020-03-21</td>\n      <td>3</td>\n      <td>0.390251</td>\n      <td>0.076338</td>\n      <td>-0.223533</td>\n      <td>7</td>\n    </tr>\n    <tr>\n      <td>2020-03-22</td>\n      <td>4</td>\n      <td>0.009804</td>\n      <td>-0.330108</td>\n      <td>0.024293</td>\n      <td>6</td>\n    </tr>\n  </tbody>\n</table>\n</div>"
     },
     "metadata": {},
     "execution_count": 9
    }
   ],
   "source": [
    "# create a copy\n",
    "time_series_df_copy = time_series_df.copy()\n",
    "# if column already exists\n",
    "time_series_df_copy.A = range(len(time_series_df_copy.A))\n",
    "# if new column\n",
    "time_series_df_copy['E'] = np.random.random_integers(1,10,len(time_series_df_copy.A))\n",
    "time_series_df_copy.head()"
   ]
  },
  {
   "cell_type": "code",
   "execution_count": 10,
   "metadata": {
    "tags": []
   },
   "outputs": [
    {
     "output_type": "stream",
     "name": "stdout",
     "text": "B         C         D\n2020-03-19 -0.508938 -0.208703 -0.283996\n2020-03-21  0.390251  0.076338 -0.223533\n2020-03-22  0.009804 -0.330108  0.024293\n"
    },
    {
     "output_type": "execute_result",
     "data": {
      "text/plain": "            A         C\n2020-03-18  0  1.442592\n2020-03-20  2  1.062893\n2020-03-22  4 -0.330108",
      "text/html": "<div>\n<style scoped>\n    .dataframe tbody tr th:only-of-type {\n        vertical-align: middle;\n    }\n\n    .dataframe tbody tr th {\n        vertical-align: top;\n    }\n\n    .dataframe thead th {\n        text-align: right;\n    }\n</style>\n<table border=\"1\" class=\"dataframe\">\n  <thead>\n    <tr style=\"text-align: right;\">\n      <th></th>\n      <th>A</th>\n      <th>C</th>\n    </tr>\n  </thead>\n  <tbody>\n    <tr>\n      <td>2020-03-18</td>\n      <td>0</td>\n      <td>1.442592</td>\n    </tr>\n    <tr>\n      <td>2020-03-20</td>\n      <td>2</td>\n      <td>1.062893</td>\n    </tr>\n    <tr>\n      <td>2020-03-22</td>\n      <td>4</td>\n      <td>-0.330108</td>\n    </tr>\n  </tbody>\n</table>\n</div>"
     },
     "metadata": {},
     "execution_count": 10
    }
   ],
   "source": [
    "print(time_series_df_copy.iloc[[1,3,4],[1,2,3]])\n",
    "time_series_df_copy.loc['20200318':'20200322':2,'A':'D':2]"
   ]
  },
  {
   "cell_type": "code",
   "execution_count": 11,
   "metadata": {
    "tags": []
   },
   "outputs": [
    {
     "output_type": "stream",
     "name": "stdout",
     "text": "2020-03-18   -0.980046\n2020-03-19   -0.283996\n2020-03-20   -0.114830\n2020-03-21   -0.223533\n2020-03-22    0.024293\n2020-03-23    1.466298\n2020-03-24    1.623935\n2020-03-25    1.662111\nFreq: D, Name: D, dtype: float64\nA    0.000000\nB   -0.897701\nC    1.442592\nD   -0.980046\nE    4.000000\nName: 2020-03-18 00:00:00, dtype: float64\n"
    }
   ],
   "source": [
    "print(time_series_df_copy.xs('D',1))\n",
    "print(time_series_df_copy.xs('20200318'))"
   ]
  },
  {
   "cell_type": "code",
   "execution_count": 12,
   "metadata": {
    "tags": []
   },
   "outputs": [
    {
     "output_type": "stream",
     "name": "stdout",
     "text": "-1.745694162636437\n-1.745694162636437\n"
    },
    {
     "output_type": "execute_result",
     "data": {
      "text/plain": "a   -0.622970\nb   -1.064992\nc   -1.745694\nd    0.708849\ndtype: float64"
     },
     "metadata": {},
     "execution_count": 12
    }
   ],
   "source": [
    "s1 = pd.Series(np.random.randn(6), index=list('abcdef'))\n",
    "#integer based indexing\n",
    "print(s1.iloc[2])\n",
    "print(s1.iat[2])\n",
    "#note both start and end are included\n",
    "s1.loc[:'d']"
   ]
  },
  {
   "cell_type": "code",
   "execution_count": 13,
   "metadata": {},
   "outputs": [],
   "source": [
    "cwd = os.getcwd()\n",
    "data_path = os.path.join(cwd,\"datasets/Advertising.csv\")\n",
    "advert_df = pd.read_csv(data_path)"
   ]
  },
  {
   "cell_type": "code",
   "execution_count": 14,
   "metadata": {
    "tags": []
   },
   "outputs": [
    {
     "output_type": "execute_result",
     "data": {
      "text/plain": "   Unnamed: 0     TV  radio  newspaper  sales\n0           1  230.1   37.8       69.2   22.1\n1           2   44.5   39.3       45.1   10.4",
      "text/html": "<div>\n<style scoped>\n    .dataframe tbody tr th:only-of-type {\n        vertical-align: middle;\n    }\n\n    .dataframe tbody tr th {\n        vertical-align: top;\n    }\n\n    .dataframe thead th {\n        text-align: right;\n    }\n</style>\n<table border=\"1\" class=\"dataframe\">\n  <thead>\n    <tr style=\"text-align: right;\">\n      <th></th>\n      <th>Unnamed: 0</th>\n      <th>TV</th>\n      <th>radio</th>\n      <th>newspaper</th>\n      <th>sales</th>\n    </tr>\n  </thead>\n  <tbody>\n    <tr>\n      <td>0</td>\n      <td>1</td>\n      <td>230.1</td>\n      <td>37.8</td>\n      <td>69.2</td>\n      <td>22.1</td>\n    </tr>\n    <tr>\n      <td>1</td>\n      <td>2</td>\n      <td>44.5</td>\n      <td>39.3</td>\n      <td>45.1</td>\n      <td>10.4</td>\n    </tr>\n  </tbody>\n</table>\n</div>"
     },
     "metadata": {},
     "execution_count": 14
    }
   ],
   "source": [
    "advert_df.head(2)"
   ]
  },
  {
   "cell_type": "code",
   "execution_count": 15,
   "metadata": {},
   "outputs": [
    {
     "output_type": "execute_result",
     "data": {
      "text/plain": "     Unnamed: 0     TV  radio  newspaper  sales\n198         199  283.6   42.0       66.2   25.5\n199         200  232.1    8.6        8.7   13.4",
      "text/html": "<div>\n<style scoped>\n    .dataframe tbody tr th:only-of-type {\n        vertical-align: middle;\n    }\n\n    .dataframe tbody tr th {\n        vertical-align: top;\n    }\n\n    .dataframe thead th {\n        text-align: right;\n    }\n</style>\n<table border=\"1\" class=\"dataframe\">\n  <thead>\n    <tr style=\"text-align: right;\">\n      <th></th>\n      <th>Unnamed: 0</th>\n      <th>TV</th>\n      <th>radio</th>\n      <th>newspaper</th>\n      <th>sales</th>\n    </tr>\n  </thead>\n  <tbody>\n    <tr>\n      <td>198</td>\n      <td>199</td>\n      <td>283.6</td>\n      <td>42.0</td>\n      <td>66.2</td>\n      <td>25.5</td>\n    </tr>\n    <tr>\n      <td>199</td>\n      <td>200</td>\n      <td>232.1</td>\n      <td>8.6</td>\n      <td>8.7</td>\n      <td>13.4</td>\n    </tr>\n  </tbody>\n</table>\n</div>"
     },
     "metadata": {},
     "execution_count": 15
    }
   ],
   "source": [
    "advert_df.tail(2)"
   ]
  },
  {
   "cell_type": "code",
   "execution_count": 16,
   "metadata": {},
   "outputs": [
    {
     "output_type": "execute_result",
     "data": {
      "text/plain": "       Unnamed: 0          TV       radio   newspaper       sales\ncount  200.000000  200.000000  200.000000  200.000000  200.000000\nmean   100.500000  147.042500   23.264000   30.554000   14.022500\nstd     57.879185   85.854236   14.846809   21.778621    5.217457\nmin      1.000000    0.700000    0.000000    0.300000    1.600000\n25%     50.750000   74.375000    9.975000   12.750000   10.375000\n50%    100.500000  149.750000   22.900000   25.750000   12.900000\n75%    150.250000  218.825000   36.525000   45.100000   17.400000\nmax    200.000000  296.400000   49.600000  114.000000   27.000000",
      "text/html": "<div>\n<style scoped>\n    .dataframe tbody tr th:only-of-type {\n        vertical-align: middle;\n    }\n\n    .dataframe tbody tr th {\n        vertical-align: top;\n    }\n\n    .dataframe thead th {\n        text-align: right;\n    }\n</style>\n<table border=\"1\" class=\"dataframe\">\n  <thead>\n    <tr style=\"text-align: right;\">\n      <th></th>\n      <th>Unnamed: 0</th>\n      <th>TV</th>\n      <th>radio</th>\n      <th>newspaper</th>\n      <th>sales</th>\n    </tr>\n  </thead>\n  <tbody>\n    <tr>\n      <td>count</td>\n      <td>200.000000</td>\n      <td>200.000000</td>\n      <td>200.000000</td>\n      <td>200.000000</td>\n      <td>200.000000</td>\n    </tr>\n    <tr>\n      <td>mean</td>\n      <td>100.500000</td>\n      <td>147.042500</td>\n      <td>23.264000</td>\n      <td>30.554000</td>\n      <td>14.022500</td>\n    </tr>\n    <tr>\n      <td>std</td>\n      <td>57.879185</td>\n      <td>85.854236</td>\n      <td>14.846809</td>\n      <td>21.778621</td>\n      <td>5.217457</td>\n    </tr>\n    <tr>\n      <td>min</td>\n      <td>1.000000</td>\n      <td>0.700000</td>\n      <td>0.000000</td>\n      <td>0.300000</td>\n      <td>1.600000</td>\n    </tr>\n    <tr>\n      <td>25%</td>\n      <td>50.750000</td>\n      <td>74.375000</td>\n      <td>9.975000</td>\n      <td>12.750000</td>\n      <td>10.375000</td>\n    </tr>\n    <tr>\n      <td>50%</td>\n      <td>100.500000</td>\n      <td>149.750000</td>\n      <td>22.900000</td>\n      <td>25.750000</td>\n      <td>12.900000</td>\n    </tr>\n    <tr>\n      <td>75%</td>\n      <td>150.250000</td>\n      <td>218.825000</td>\n      <td>36.525000</td>\n      <td>45.100000</td>\n      <td>17.400000</td>\n    </tr>\n    <tr>\n      <td>max</td>\n      <td>200.000000</td>\n      <td>296.400000</td>\n      <td>49.600000</td>\n      <td>114.000000</td>\n      <td>27.000000</td>\n    </tr>\n  </tbody>\n</table>\n</div>"
     },
     "metadata": {},
     "execution_count": 16
    }
   ],
   "source": [
    "advert_df.describe()"
   ]
  },
  {
   "cell_type": "code",
   "execution_count": 17,
   "metadata": {
    "tags": []
   },
   "outputs": [
    {
     "output_type": "stream",
     "name": "stdout",
     "text": "17.2\n17.2\n17.2\n17.2\n"
    }
   ],
   "source": [
    "#python-like retrieval\n",
    "#column-row\n",
    "print(advert_df['TV'][2])\n",
    "\n",
    "#efficient-retrieval:\n",
    "print(advert_df.iat[2,1])\n",
    "print(advert_df.loc[2,'TV'])\n",
    "print(advert_df.at[2,'TV'])"
   ]
  },
  {
   "cell_type": "code",
   "execution_count": 18,
   "metadata": {
    "tags": []
   },
   "outputs": [
    {
     "output_type": "stream",
     "name": "stdout",
     "text": "Unnamed: 0    20100.0\nTV            29408.5\nradio          4652.8\nnewspaper      6110.8\nsales          2804.5\ndtype: float64\nUnnamed: 0    200.0\nTV            296.4\nradio          49.6\nnewspaper     114.0\nsales          27.0\ndtype: float64\nUnnamed: 0    100.5000\nTV            147.0425\nradio          23.2640\nnewspaper      30.5540\nsales          14.0225\ndtype: float64\n     Unnamed: 0   TV  radio  newspaper  sales\n0             0  0.0    0.0        0.0    0.0\n1             0  0.0    0.0        0.0    0.0\n2             0  0.0    0.0        0.0    0.0\n3             0  0.0    0.0        0.0    0.0\n4             0  0.0    0.0        0.0    0.0\n..          ...  ...    ...        ...    ...\n195           0  0.0    0.0        0.0    0.0\n196           0  0.0    0.0        0.0    0.0\n197           0  0.0    0.0        0.0    0.0\n198           0  0.0    0.0        0.0    0.0\n199           0  0.0    0.0        0.0    0.0\n\n[200 rows x 5 columns]\n"
    }
   ],
   "source": [
    "print(advert_df.sum())\n",
    "print(advert_df.max())\n",
    "print(advert_df.mean())\n",
    "print(advert_df.sub(advert_df))"
   ]
  },
  {
   "cell_type": "code",
   "execution_count": 19,
   "metadata": {},
   "outputs": [],
   "source": [
    "def normalize(feature_series):\n",
    "    min_val = feature_series.min()\n",
    "    max_val = feature_series.max()\n",
    "    return feature_series.apply(lambda val,min_val,max_val: (val-min_val)/(max_val-min_val),\n",
    "     args=(min_val, max_val))\n",
    "\n",
    "advert_df_normalised = advert_df.apply(normalize, axis=0)"
   ]
  }
 ],
 "metadata": {
  "kernelspec": {
   "display_name": "Python 3.7.4 64-bit ('base': conda)",
   "language": "python",
   "name": "python_defaultSpec_1596343804388"
  },
  "language_info": {
   "codemirror_mode": {
    "name": "ipython",
    "version": 3
   },
   "file_extension": ".py",
   "mimetype": "text/x-python",
   "name": "python",
   "nbconvert_exporter": "python",
   "pygments_lexer": "ipython3",
   "version": "3.7.4-final"
  }
 },
 "nbformat": 4,
 "nbformat_minor": 4
}