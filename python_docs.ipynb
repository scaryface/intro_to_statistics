{
 "cells": [
  {
   "cell_type": "markdown",
   "metadata": {},
   "source": [
    "## Python Docs"
   ]
  },
  {
   "cell_type": "markdown",
   "metadata": {},
   "source": [
    "### String"
   ]
  },
  {
   "cell_type": "code",
   "execution_count": 1,
   "metadata": {
    "tags": []
   },
   "outputs": [
    {
     "output_type": "stream",
     "name": "stdout",
     "text": "\"Isn't\" it, they said\n"
    }
   ],
   "source": [
    "a = '\"Isn\\'t\" it, they said'\n",
    "print(a)"
   ]
  },
  {
   "cell_type": "code",
   "execution_count": 2,
   "metadata": {
    "tags": []
   },
   "outputs": [
    {
     "output_type": "stream",
     "name": "stdout",
     "text": "7\n2\n7\n"
    }
   ],
   "source": [
    "s = \"abcabc\"\n",
    "print(s.count(\"abc\"[:0]))\n",
    "print(s.count(\"abc\"))\n",
    "print(s.count(\"abc\"[:0]))"
   ]
  },
  {
   "cell_type": "code",
   "execution_count": 3,
   "metadata": {
    "tags": []
   },
   "outputs": [
    {
     "output_type": "stream",
     "name": "stdout",
     "text": "True\n0\n"
    }
   ],
   "source": [
    "# To check if substring\n",
    "print('we' in 'weed')\n",
    "# To know the index\n",
    "print('weed'.find('we'))"
   ]
  },
  {
   "cell_type": "code",
   "execution_count": 4,
   "metadata": {
    "tags": []
   },
   "outputs": [
    {
     "output_type": "stream",
     "name": "stdout",
     "text": "Magic number 420\nMagic number \"420\"\nMagic number                  420\nReal: 3.0, Imag: -5.0\n"
    }
   ],
   "source": [
    "print(\"Magic number {}\".format(420))\n",
    "print(\"Magic number {1}\".format(420,'\"420\"'))\n",
    "print(\"Magic number {:>20}\".format(420))\n",
    "\n",
    "c = 3-5j\n",
    "print(\"Real: {0.real}, Imag: {0.imag}\".format(c))"
   ]
  },
  {
   "cell_type": "code",
   "execution_count": 5,
   "metadata": {
    "tags": []
   },
   "outputs": [
    {
     "output_type": "stream",
     "name": "stdout",
     "text": "True\nFalse\nFalse\nTrue\n"
    }
   ],
   "source": [
    "print('01'.isalnum())\n",
    "print('1.0'.isdigit())\n",
    "print('1.0.1'.isdecimal())\n",
    "print('01'.isascii())"
   ]
  },
  {
   "cell_type": "code",
   "execution_count": 6,
   "metadata": {
    "tags": []
   },
   "outputs": [
    {
     "output_type": "stream",
     "name": "stdout",
     "text": "abc      \n   abc   \n      abc\n9\n3\n"
    }
   ],
   "source": [
    "print('abc'.ljust(9))\n",
    "print('abc'.center(9))\n",
    "print('abc'.rjust(9))\n",
    "print(len('abc'.ljust(9)))\n",
    "print(len('abc'.ljust(2)))"
   ]
  },
  {
   "cell_type": "code",
   "execution_count": 7,
   "metadata": {
    "tags": []
   },
   "outputs": [
    {
     "output_type": "stream",
     "name": "stdout",
     "text": "abc abc b'abc'\nTrue\nTrue\nFalse\n"
    }
   ],
   "source": [
    "s1 = \"abc\"\n",
    "s2 = r\"abc\"\n",
    "s3 = b\"abc\"\n",
    "s4 = \"abc\"\n",
    "print(s1, s2, s3)\n",
    "print(s1 == s4)\n",
    "print(s1 == s2)\n",
    "print(s1 == s3)"
   ]
  },
  {
   "cell_type": "markdown",
   "metadata": {},
   "source": [
    "### Lists"
   ]
  },
  {
   "cell_type": "code",
   "execution_count": 8,
   "metadata": {
    "tags": []
   },
   "outputs": [
    {
     "output_type": "stream",
     "name": "stdout",
     "text": "['a', 'b', 'c']\n"
    },
    {
     "output_type": "execute_result",
     "data": {
      "text/plain": "['a', 'b', 'c']"
     },
     "metadata": {},
     "execution_count": 8
    }
   ],
   "source": [
    "letters = ['a','b','b']\n",
    "letters[2:3] = ['c']\n",
    "print(letters)\n",
    "# Returns a copy\n",
    "letters[:]"
   ]
  },
  {
   "cell_type": "code",
   "execution_count": 9,
   "metadata": {
    "tags": []
   },
   "outputs": [
    {
     "output_type": "stream",
     "name": "stdout",
     "text": "Magic number                  420\n"
    }
   ],
   "source": [
    "print(\"Magic number {:>20}\".format(420,'\"420\"'))"
   ]
  },
  {
   "cell_type": "markdown",
   "metadata": {},
   "source": [
    "### Loops"
   ]
  },
  {
   "cell_type": "code",
   "execution_count": 11,
   "metadata": {
    "tags": []
   },
   "outputs": [
    {
     "output_type": "stream",
     "name": "stdout",
     "text": "{1, 2, 3}\n"
    }
   ],
   "source": [
    "u = {1,2,3}\n",
    "print(u.copy())\n",
    "#for i in u.copy"
   ]
  },
  {
   "cell_type": "code",
   "execution_count": 12,
   "metadata": {
    "tags": []
   },
   "outputs": [
    {
     "output_type": "stream",
     "name": "stdout",
     "text": "1 1\n2 2\n3 3\n"
    }
   ],
   "source": [
    "u = {1:1,2:2,3:3}\n",
    "for i,j in u.copy().items():\n",
    "    print(i,j)"
   ]
  }
 ],
 "metadata": {
  "kernelspec": {
   "display_name": "Python 3.7.4 64-bit ('base': conda)",
   "language": "python",
   "name": "python_defaultSpec_1596344617523"
  },
  "language_info": {
   "codemirror_mode": {
    "name": "ipython",
    "version": 3
   },
   "file_extension": ".py",
   "mimetype": "text/x-python",
   "name": "python",
   "nbconvert_exporter": "python",
   "pygments_lexer": "ipython3",
   "version": "3.7.4-final"
  },
  "pycharm": {
   "stem_cell": {
    "cell_type": "raw",
    "source": [],
    "metadata": {
     "collapsed": false
    }
   }
  }
 },
 "nbformat": 4,
 "nbformat_minor": 4
}